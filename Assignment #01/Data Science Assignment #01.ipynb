{
 "cells": [
  {
   "cell_type": "code",
   "execution_count": 44,
   "metadata": {},
   "outputs": [
    {
     "name": "stdout",
     "output_type": "stream",
     "text": [
      "Twinkle, twinkle, little star,\n",
      "   How I wonder what you are!\n",
      "      Up above the world so high,\n",
      "         Like diamond in the sky.\n",
      "Twinkle, twinkle, little star,\n",
      "   How I wonder what you are\n"
     ]
    }
   ],
   "source": [
    "# 01. Write a Python program to print the following string in a specific format.\n",
    "\n",
    "print(\"Twinkle, twinkle, little star,\\n   How I wonder what you are!\\n      Up above the world so high,\\n         Like diamond in the sky.\\nTwinkle, twinkle, little star,\\n   How I wonder what you are\")\n"
   ]
  },
  {
   "cell_type": "code",
   "execution_count": 49,
   "metadata": {},
   "outputs": [
    {
     "name": "stdout",
     "output_type": "stream",
     "text": [
      "3.7.4 (default, Aug  9 2019, 18:34:13) [MSC v.1915 64 bit (AMD64)]\n"
     ]
    }
   ],
   "source": [
    "# 02. Write a Python program to get the Python version you are using.\n",
    "\n",
    "print(sys.version)"
   ]
  },
  {
   "cell_type": "code",
   "execution_count": 2,
   "metadata": {},
   "outputs": [
    {
     "data": {
      "text/plain": [
       "datetime.datetime(2022, 1, 1, 8, 57, 37, 873575)"
      ]
     },
     "execution_count": 2,
     "metadata": {},
     "output_type": "execute_result"
    }
   ],
   "source": [
    "# 03. Write a Python program to display current date and time.\n",
    "\n",
    "import datetime\n",
    "datetime.datetime.now()"
   ]
  },
  {
   "cell_type": "code",
   "execution_count": 3,
   "metadata": {},
   "outputs": [
    {
     "name": "stdout",
     "output_type": "stream",
     "text": [
      "Input the radius of the circle : 3.4\n",
      "The area of the circle with radius 3.4 is: 36.316811075498\n"
     ]
    }
   ],
   "source": [
    "# 04. Write a Python program which accepts the radius of a circle from the user and compute the area.\n",
    "\n",
    "from math import pi\n",
    "r = float(input (\"Input the radius of the circle : \"))\n",
    "print (\"The area of the circle with radius \" + str(r) + \" is: \" + str(pi * r**2))\n"
   ]
  },
  {
   "cell_type": "code",
   "execution_count": 4,
   "metadata": {},
   "outputs": [
    {
     "name": "stdout",
     "output_type": "stream",
     "text": [
      "Enter your First Name: Naseer Ali\n",
      "Enter your Last Name: Soomro\n",
      "Soomro Naseer Ali\n"
     ]
    }
   ],
   "source": [
    "# 05. Write a Python program which accepts the user's first and last name and print them in reverse order with a space between.\n",
    "\n",
    "firstName = input(\"Enter your First Name: \")\n",
    "lastName = input(\"Enter your Last Name: \")\n",
    "\n",
    "print(lastName +\" \"+ firstName)\n"
   ]
  },
  {
   "cell_type": "code",
   "execution_count": 14,
   "metadata": {},
   "outputs": [
    {
     "name": "stdout",
     "output_type": "stream",
     "text": [
      "Enter First Number 4\n",
      "Enter Second Number 4\n",
      "Addition of  4 and 4 is 8\n"
     ]
    }
   ],
   "source": [
    "# 06. Write a Python program which accepts takes two inputs from the user and print their addition.\n",
    "\n",
    "firstNum = int(input(\"Enter First Number \"))\n",
    "secondNum = int(input(\"Enter Second Number \"))\n",
    "\n",
    "finalResult = firstNum + secondNum\n",
    "print(\"Addition of \",firstNum,\"and\",secondNum,\"is\",finalResult)\n",
    "\n"
   ]
  }
 ],
 "metadata": {
  "kernelspec": {
   "display_name": "Python 3",
   "language": "python",
   "name": "python3"
  },
  "language_info": {
   "codemirror_mode": {
    "name": "ipython",
    "version": 3
   },
   "file_extension": ".py",
   "mimetype": "text/x-python",
   "name": "python",
   "nbconvert_exporter": "python",
   "pygments_lexer": "ipython3",
   "version": "3.7.4"
  }
 },
 "nbformat": 4,
 "nbformat_minor": 2
}
